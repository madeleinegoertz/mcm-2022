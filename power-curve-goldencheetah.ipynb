{
 "cells": [
  {
   "cell_type": "code",
   "execution_count": 36,
   "id": "2a8cc327",
   "metadata": {},
   "outputs": [],
   "source": [
    "import math\n",
    "import pandas as pd\n",
    "import numpy as np\n",
    "import matplotlib.pyplot as plt"
   ]
  },
  {
   "cell_type": "code",
   "execution_count": 37,
   "id": "5bf23b7d",
   "metadata": {},
   "outputs": [],
   "source": [
    "# Read in CSV file with critical power values from random cyclists\n",
    "df = pd.read_csv(\"C:\\\\Users\\\\madie\\\\mcm-2022\\\\powerprofile.csv\")\n",
    "\n",
    "# only keep columns containing critical power data\n",
    "cp = df[['1s_critical_power', '15s_critical_power',\n",
    "       '2m_critical_power', '3m_critical_power', '5m_critical_power',\n",
    "       '8m_critical_power', '10m_critical_power', '20m_critical_power',\n",
    "       '30m_critical_power']]\n",
    "# swap rows and columns so that each column is the P_c values for one rider\n",
    "cp = cp.transpose()\n",
    "# Add a column to be time, number of seconds for each P_c value\n",
    "cp[\"t\"] = [1,15,120,180,300,480,600,1200,1800]\n",
    "# strip leading zeroes because it's being weird\n",
    "cp.columns = cp.columns.str.lstrip('0')"
   ]
  },
  {
   "cell_type": "code",
   "execution_count": 38,
   "id": "2b8ef703",
   "metadata": {},
   "outputs": [
    {
     "name": "stderr",
     "output_type": "stream",
     "text": [
      "C:\\Users\\madie\\AppData\\Local\\Temp/ipykernel_5960/4154520023.py:2: RuntimeWarning: divide by zero encountered in true_divide\n",
      "  f = lambda x: 1/x\n"
     ]
    },
    {
     "data": {
      "image/png": "[encoded data removed]",
      "text/plain": [
       "<Figure size 432x288 with 1 Axes>"
      ]
     },
     "metadata": {
      "needs_background": "light"
     },
     "output_type": "display_data"
    }
   ],
   "source": [
    "ones = np.array([1,1,1,1,1,1,1,1,1])\n",
    "f = lambda x: 1/x\n",
    "g = lambda x: 1/x\n",
    "plt.xscale(\"function\",functions=(f,g))\n",
    "plt.plot(x,y,\"o\")\n",
    "\n",
    "#plt.x\n",
    "#plt.xticks([1/1800])\n",
    "#plt.xscale(\"log\")\n",
    "plt.xlabel(\"Time (s)\")\n",
    "plt.ylabel(\"Critical Power (W)\")\n",
    "plt.show()"
   ]
  },
  {
   "cell_type": "markdown",
   "id": "9b957b5c",
   "metadata": {},
   "source": [
    "##### x.size"
   ]
  },
  {
   "cell_type": "code",
   "execution_count": null,
   "id": "cb26fbb3",
   "metadata": {},
   "outputs": [],
   "source": []
  }
 ],
 "metadata": {
  "kernelspec": {
   "display_name": "Python 3 (ipykernel)",
   "language": "python",
   "name": "python3"
  },
  "language_info": {
   "codemirror_mode": {
    "name": "ipython",
    "version": 3
   },
   "file_extension": ".py",
   "mimetype": "text/x-python",
   "name": "python",
   "nbconvert_exporter": "python",
   "pygments_lexer": "ipython3",
   "version": "3.9.1"
  }
 },
 "nbformat": 4,
 "nbformat_minor": 5
}
